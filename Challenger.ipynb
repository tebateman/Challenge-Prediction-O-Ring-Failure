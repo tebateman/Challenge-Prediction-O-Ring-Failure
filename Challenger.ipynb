{
 "cells": [
  {
   "cell_type": "code",
   "execution_count": 67,
   "metadata": {},
   "outputs": [],
   "source": [
    "import pandas as pd\n",
    "import numpy as np\n",
    "import statsmodels.api as sm\n",
    "import matplotlib.pyplot as plt\n",
    "%matplotlib inline"
   ]
  },
  {
   "cell_type": "code",
   "execution_count": 144,
   "metadata": {},
   "outputs": [],
   "source": [
    "# Let's import the data\n",
    "col = ['NUM_RINGS_RISK','NUM_DISTRESS','LAUNCH_TEMP_F','PRESS_PSI','TEMPORAL_ORDER']\n",
    "ring = pd.read_csv('o-ring-erosion-or-blowby.csv',delim_whitespace=True,names=col)"
   ]
  },
  {
   "cell_type": "code",
   "execution_count": 152,
   "metadata": {},
   "outputs": [
    {
     "data": {
      "image/png": "[encoded data removed]",
      "text/plain": [
       "<matplotlib.figure.Figure at 0x23478862be0>"
      ]
     },
     "metadata": {},
     "output_type": "display_data"
    },
    {
     "data": {
      "image/png": "[encoded data removed]",
      "text/plain": [
       "<matplotlib.figure.Figure at 0x234784315f8>"
      ]
     },
     "metadata": {},
     "output_type": "display_data"
    }
   ],
   "source": [
    "# Check for linearity between independent variables and dependent variable (Number experiencing thermal distress/'NUM_DISTRESS')\n",
    "# Ignore num_rings_risk and temporal_order\n",
    "plt.scatter(ring['LAUNCH_TEMP_F'],ring['NUM_DISTRESS'])\n",
    "plt.title('Number Thermal Distress by Launch Temp (F)')\n",
    "plt.xlabel('Temp (F)')\n",
    "plt.ylabel('Number Thermal Distress')\n",
    "plt.show()\n",
    "\n",
    "plt.scatter(ring['PRESS_PSI'],ring['NUM_DISTRESS'])\n",
    "plt.title('Number Thermal Distress by PSI')\n",
    "plt.xlabel('Pressure PSI')\n",
    "plt.ylabel('Number Thermal Distress')\n",
    "plt.show()\n"
   ]
  },
  {
   "cell_type": "code",
   "execution_count": 70,
   "metadata": {},
   "outputs": [
    {
     "data": {
      "text/html": [
       "<div>\n",
       "<style scoped>\n",
       "    .dataframe tbody tr th:only-of-type {\n",
       "        vertical-align: middle;\n",
       "    }\n",
       "\n",
       "    .dataframe tbody tr th {\n",
       "        vertical-align: top;\n",
       "    }\n",
       "\n",
       "    .dataframe thead th {\n",
       "        text-align: right;\n",
       "    }\n",
       "</style>\n",
       "<table border=\"1\" class=\"dataframe\">\n",
       "  <thead>\n",
       "    <tr style=\"text-align: right;\">\n",
       "      <th></th>\n",
       "      <th>NUM_RINGS_RISK</th>\n",
       "      <th>NUM_DISTRESS</th>\n",
       "      <th>LAUNCH_TEMP_F</th>\n",
       "      <th>PRESS_PSI</th>\n",
       "      <th>TEMPORAL_ORDER</th>\n",
       "    </tr>\n",
       "  </thead>\n",
       "  <tbody>\n",
       "    <tr>\n",
       "      <th>NUM_RINGS_RISK</th>\n",
       "      <td>NaN</td>\n",
       "      <td>NaN</td>\n",
       "      <td>NaN</td>\n",
       "      <td>NaN</td>\n",
       "      <td>NaN</td>\n",
       "    </tr>\n",
       "    <tr>\n",
       "      <th>NUM_DISTRESS</th>\n",
       "      <td>NaN</td>\n",
       "      <td>1.000000</td>\n",
       "      <td>-0.511126</td>\n",
       "      <td>0.284666</td>\n",
       "      <td>0.173578</td>\n",
       "    </tr>\n",
       "    <tr>\n",
       "      <th>LAUNCH_TEMP_F</th>\n",
       "      <td>NaN</td>\n",
       "      <td>-0.511126</td>\n",
       "      <td>1.000000</td>\n",
       "      <td>0.039818</td>\n",
       "      <td>0.230770</td>\n",
       "    </tr>\n",
       "    <tr>\n",
       "      <th>PRESS_PSI</th>\n",
       "      <td>NaN</td>\n",
       "      <td>0.284666</td>\n",
       "      <td>0.039818</td>\n",
       "      <td>1.000000</td>\n",
       "      <td>0.839932</td>\n",
       "    </tr>\n",
       "    <tr>\n",
       "      <th>TEMPORAL_ORDER</th>\n",
       "      <td>NaN</td>\n",
       "      <td>0.173578</td>\n",
       "      <td>0.230770</td>\n",
       "      <td>0.839932</td>\n",
       "      <td>1.000000</td>\n",
       "    </tr>\n",
       "  </tbody>\n",
       "</table>\n",
       "</div>"
      ],
      "text/plain": [
       "                NUM_RINGS_RISK  NUM_DISTRESS  LAUNCH_TEMP_F  PRESS_PSI  \\\n",
       "NUM_RINGS_RISK             NaN           NaN            NaN        NaN   \n",
       "NUM_DISTRESS               NaN      1.000000      -0.511126   0.284666   \n",
       "LAUNCH_TEMP_F              NaN     -0.511126       1.000000   0.039818   \n",
       "PRESS_PSI                  NaN      0.284666       0.039818   1.000000   \n",
       "TEMPORAL_ORDER             NaN      0.173578       0.230770   0.839932   \n",
       "\n",
       "                TEMPORAL_ORDER  \n",
       "NUM_RINGS_RISK             NaN  \n",
       "NUM_DISTRESS          0.173578  \n",
       "LAUNCH_TEMP_F         0.230770  \n",
       "PRESS_PSI             0.839932  \n",
       "TEMPORAL_ORDER        1.000000  "
      ]
     },
     "execution_count": 70,
     "metadata": {},
     "output_type": "execute_result"
    }
   ],
   "source": [
    "ring.corr()"
   ]
  },
  {
   "cell_type": "code",
   "execution_count": 71,
   "metadata": {},
   "outputs": [],
   "source": [
    "# Define x and y for the model\n",
    "x = ring[['LAUNCH_TEMP_F','PRESS_PSI']]\n",
    "y = ring['NUM_DISTRESS']"
   ]
  },
  {
   "cell_type": "code",
   "execution_count": 72,
   "metadata": {},
   "outputs": [],
   "source": [
    "# Add a constant to x\n",
    "x = sm.add_constant(x)"
   ]
  },
  {
   "cell_type": "code",
   "execution_count": 73,
   "metadata": {},
   "outputs": [],
   "source": [
    "model = sm.OLS(y, x).fit()\n",
    "predict = model.predict(x)"
   ]
  },
  {
   "cell_type": "code",
   "execution_count": 74,
   "metadata": {},
   "outputs": [
    {
     "name": "stdout",
     "output_type": "stream",
     "text": [
      "                            OLS Regression Results                            \n",
      "==============================================================================\n",
      "Dep. Variable:           NUM_DISTRESS   R-squared:                       0.354\n",
      "Model:                            OLS   Adj. R-squared:                  0.290\n",
      "Method:                 Least Squares   F-statistic:                     5.490\n",
      "Date:                Mon, 23 Jul 2018   Prob (F-statistic):             0.0126\n",
      "Time:                        21:36:32   Log-Likelihood:                -17.408\n",
      "No. Observations:                  23   AIC:                             40.82\n",
      "Df Residuals:                      20   BIC:                             44.22\n",
      "Df Model:                           2                                         \n",
      "Covariance Type:            nonrobust                                         \n",
      "=================================================================================\n",
      "                    coef    std err          t      P>|t|      [0.025      0.975]\n",
      "---------------------------------------------------------------------------------\n",
      "const             3.3298      1.188      2.803      0.011       0.851       5.808\n",
      "LAUNCH_TEMP_F    -0.0487      0.017     -2.910      0.009      -0.084      -0.014\n",
      "PRESS_PSI         0.0029      0.002      1.699      0.105      -0.001       0.007\n",
      "==============================================================================\n",
      "Omnibus:                       19.324   Durbin-Watson:                   2.390\n",
      "Prob(Omnibus):                  0.000   Jarque-Bera (JB):               23.471\n",
      "Skew:                           1.782   Prob(JB):                     8.00e-06\n",
      "Kurtosis:                       6.433   Cond. No.                     1.84e+03\n",
      "==============================================================================\n",
      "\n",
      "Warnings:\n",
      "[1] Standard Errors assume that the covariance matrix of the errors is correctly specified.\n",
      "[2] The condition number is large, 1.84e+03. This might indicate that there are\n",
      "strong multicollinearity or other numerical problems.\n"
     ]
    }
   ],
   "source": [
    "print_model = model.summary()\n",
    "print(print_model)"
   ]
  },
  {
   "cell_type": "code",
   "execution_count": 139,
   "metadata": {},
   "outputs": [],
   "source": [
    "def calculate_distress(temp,psi_start,psi_end):\n",
    "    results = pd.DataFrame()\n",
    "    psi = psi_start\n",
    "    while psi <= psi_end:\n",
    "        y = (3.3298)+(-0.0487)*temp+(0.0029)*psi\n",
    "        results = results.append(pd.DataFrame({'PSI':[psi], 'TEMP_F':[temp], 'NUM_DISTRESS':[round(y)]}))\n",
    "        psi = psi + 50\n",
    "    return results"
   ]
  },
  {
   "cell_type": "code",
   "execution_count": 155,
   "metadata": {},
   "outputs": [
    {
     "data": {
      "text/html": [
       "<div>\n",
       "<style scoped>\n",
       "    .dataframe tbody tr th:only-of-type {\n",
       "        vertical-align: middle;\n",
       "    }\n",
       "\n",
       "    .dataframe tbody tr th {\n",
       "        vertical-align: top;\n",
       "    }\n",
       "\n",
       "    .dataframe thead th {\n",
       "        text-align: right;\n",
       "    }\n",
       "</style>\n",
       "<table border=\"1\" class=\"dataframe\">\n",
       "  <thead>\n",
       "    <tr style=\"text-align: right;\">\n",
       "      <th></th>\n",
       "      <th>NUM_DISTRESS</th>\n",
       "      <th>PSI</th>\n",
       "      <th>TEMP_F</th>\n",
       "    </tr>\n",
       "  </thead>\n",
       "  <tbody>\n",
       "    <tr>\n",
       "      <th>0</th>\n",
       "      <td>2</td>\n",
       "      <td>0</td>\n",
       "      <td>31</td>\n",
       "    </tr>\n",
       "    <tr>\n",
       "      <th>0</th>\n",
       "      <td>2</td>\n",
       "      <td>50</td>\n",
       "      <td>31</td>\n",
       "    </tr>\n",
       "    <tr>\n",
       "      <th>0</th>\n",
       "      <td>2</td>\n",
       "      <td>100</td>\n",
       "      <td>31</td>\n",
       "    </tr>\n",
       "    <tr>\n",
       "      <th>0</th>\n",
       "      <td>2</td>\n",
       "      <td>150</td>\n",
       "      <td>31</td>\n",
       "    </tr>\n",
       "    <tr>\n",
       "      <th>0</th>\n",
       "      <td>2</td>\n",
       "      <td>200</td>\n",
       "      <td>31</td>\n",
       "    </tr>\n",
       "  </tbody>\n",
       "</table>\n",
       "</div>"
      ],
      "text/plain": [
       "   NUM_DISTRESS  PSI  TEMP_F\n",
       "0             2    0      31\n",
       "0             2   50      31\n",
       "0             2  100      31\n",
       "0             2  150      31\n",
       "0             2  200      31"
      ]
     },
     "execution_count": 155,
     "metadata": {},
     "output_type": "execute_result"
    }
   ],
   "source": [
    "calculate_distress(31,0,200)"
   ]
  },
  {
   "cell_type": "code",
   "execution_count": null,
   "metadata": {},
   "outputs": [],
   "source": []
  }
 ],
 "metadata": {
  "kernelspec": {
   "display_name": "Python 3",
   "language": "python",
   "name": "python3"
  },
  "language_info": {
   "codemirror_mode": {
    "name": "ipython",
    "version": 3
   },
   "file_extension": ".py",
   "mimetype": "text/x-python",
   "name": "python",
   "nbconvert_exporter": "python",
   "pygments_lexer": "ipython3",
   "version": "3.6.4"
  }
 },
 "nbformat": 4,
 "nbformat_minor": 2
}
